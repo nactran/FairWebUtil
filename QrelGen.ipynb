{
 "cells": [
  {
   "cell_type": "code",
   "execution_count": null,
   "id": "61c8c070",
   "metadata": {},
   "outputs": [],
   "source": [
    "def read_assess_file(assess_file_path)\n",
    "    entity_list = []    \n",
    "    with open (assess_file__path, 'r', encoding='utf-8') as f:\n",
    "        for line in f.readlines():\n",
    "            field_list = line.split(',')\n",
    "            entity_list.append(field_list)\n",
    "    return entity_list\n",
    "\n",
    "        \n",
    "def get_qrel_R(assess_file_1_path, assess_file_2_path):\n",
    "    entity_list1 = read_assess_file(assess_file_1_path)\n",
    "    entity_list2 = read_assess_file(assess_file_2_path)\n",
    "    \n",
    "    top_doc_ass_map = {}\n",
    "    \n",
    "    def build_top_doc_ass_map(entity_list):\n",
    "        for rec in entity_list:\n",
    "            #  <topicID, docID, assessorID, researchername, bioURL, gender, GScholarURL, h-index>\n",
    "            topic = rec[0]\n",
    "            doc = rec[1]\n",
    "            ass = rec[2]\n",
    "            bioUrl = rec[4]\n",
    "\n",
    "            if topic not in top_doc_ass_map:\n",
    "                top_doc_ass_map[topic] = {}\n",
    "            if doc not in top_doc_ass_map[topic]:\n",
    "                top_doc_ass_map[topic][doc] = {}\n",
    "            if bioUrl not in [topic][doc]:\n",
    "                top_doc_ass_map[topic][doc][bioUrl] = set(ass)\n",
    "            else:\n",
    "                top_doc_ass_map[topic][doc][bioUrl].add(ass)\n",
    "    \n",
    "    \n",
    "    build_top_doc_ass_map(entity_list1)\n",
    "    build_top_doc_ass_map(entity_list2)\n",
    "    \n",
    "    rows = []\n",
    "    \n",
    "    for topic, doc_ass_map in top_doc_ass_map.items():\n",
    "        for doc, ass_map in doc_ass_map.items():\n",
    "            maxRel = 0\n",
    "            for scholar, cnt_set in ass_map.items():\n",
    "                if len(cnt_set) > maxRel:\n",
    "                    maxRel = len(cnt_set)\n",
    "                if maxRel >= 2:\n",
    "                    break\n",
    "                    \n",
    "            rows.append('{} {} L{}'.format(topic, doc, maxRel))\n",
    "    \n",
    "    \n",
    "    return rows\n",
    "        \n",
    "    "
   ]
  },
  {
   "cell_type": "code",
   "execution_count": null,
   "id": "78ba5b57-7abc-4ae7-ab23-c8efe5db68b5",
   "metadata": {},
   "outputs": [],
   "source": []
  }
 ],
 "metadata": {
  "kernelspec": {
   "display_name": "Python 3 (ipykernel)",
   "language": "python",
   "name": "python3"
  },
  "language_info": {
   "codemirror_mode": {
    "name": "ipython",
    "version": 3
   },
   "file_extension": ".py",
   "mimetype": "text/x-python",
   "name": "python",
   "nbconvert_exporter": "python",
   "pygments_lexer": "ipython3",
   "version": "3.9.12"
  }
 },
 "nbformat": 4,
 "nbformat_minor": 5
}
