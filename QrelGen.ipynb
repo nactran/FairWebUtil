{
 "cells": [
  {
   "cell_type": "code",
   "execution_count": null,
   "id": "9a465e8a",
   "metadata": {},
   "outputs": [],
   "source": [
    "def read_assess_file_R(assess_file_path)\n",
    "    entity_list = []    \n",
    "    with open (assess_file_1_path, 'r', encoding='utf-8') as f:\n",
    "        for line in f.readlines():\n",
    "            #  <topicID, docID, researchername, BioURL, gender, GScholarURL, h-index>\n",
    "            field_list = line.split(',')\n",
    "            entity_list.append(field_list)\n",
    "    return entity_list\n",
    "\n",
    "def get_qrel_R(assess_file_1_path, assess_file_2_path):\n",
    "    entity_list1 = read_assess_file_R(assess_file_1_path)\n",
    "    entity_list2 = read_assess_file_R(assess_file_2_path)\n",
    "    entity_list = entity_list1 + entity_list2 \n",
    "    \n",
    "    \n",
    "    "
   ]
  }
 ],
 "metadata": {
  "kernelspec": {
   "display_name": "Python 3 (ipykernel)",
   "language": "python",
   "name": "python3"
  },
  "language_info": {
   "codemirror_mode": {
    "name": "ipython",
    "version": 3
   },
   "file_extension": ".py",
   "mimetype": "text/x-python",
   "name": "python",
   "nbconvert_exporter": "python",
   "pygments_lexer": "ipython3",
   "version": "3.9.12"
  }
 },
 "nbformat": 4,
 "nbformat_minor": 5
}
